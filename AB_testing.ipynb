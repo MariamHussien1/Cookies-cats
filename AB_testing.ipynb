{
  "nbformat": 4,
  "nbformat_minor": 0,
  "metadata": {
    "colab": {
      "provenance": [],
      "collapsed_sections": [
        "Qp1HoU8vpwjg",
        "yQvnHExxJ1Fz",
        "Qo7QCzlhvtcc",
        "34UpqKXl7ulL"
      ]
    },
    "kernelspec": {
      "name": "ir",
      "display_name": "R"
    },
    "language_info": {
      "name": "R"
    }
  },
  "cells": [
    {
      "cell_type": "markdown",
      "source": [
        "# Welcome to NGS Summer Training Project!"
      ],
      "metadata": {
        "id": "Qp1HoU8vpwjg"
      }
    },
    {
      "cell_type": "markdown",
      "source": [
        "It will be covering the **\"Statistics + R\"** training content using **Cookie Cats** dataset."
      ],
      "metadata": {
        "id": "68hydvf-rDne"
      }
    },
    {
      "cell_type": "markdown",
      "source": [
        "Description: Cookie Cats is a hugely popular mobile puzzle game developed by Tactile Entertainment. It's a classic \"connect three\"-style puzzle game where the player must connect tiles of the same color to clear the board and win the level. It also features singing cats.\n",
        "\n",
        "As players progress through the levels of the game, they will occasionally encounter gates that force them to wait a non-trivial amount of time or make an in-app purchase to progress. In addition to driving in-app purchases, these gates serve the important purpose of giving players an enforced break from playing the game, hopefully resulting in that the player's enjoyment of the game being increased and prolonged.\n",
        "\n",
        "But where should the gates be placed? Initially, the first gate was placed at level 30. In this project, we're going to analyze an AB-test where we moved the first gate in Cookie Cats from level 30 to level 40. In particular, we will look at the impact on player retention."
      ],
      "metadata": {
        "id": "r_oURCacrFz_"
      }
    },
    {
      "cell_type": "code",
      "source": [
        "# To read the dataset into a data frame, run this cell\n",
        "# https://drive.google.com/file/d/1kSAaGB0jU2X_6Q4hoRf7klDTOSQMCd_a/view\n",
        "\n",
        "system(\"gdown --id 1kSAaGB0jU2X_6Q4hoRf7klDTOSQMCd_a\")\n",
        "cookie_cats = read.csv(\"cookie_cats.csv\")"
      ],
      "metadata": {
        "id": "BrIne3jFrHI3"
      },
      "execution_count": null,
      "outputs": []
    },
    {
      "cell_type": "code",
      "source": [
        "# To learn more about the structure and variables of the dataset, use str() and head()\n",
        "str(cookie_cats)\n",
        "head(cookie_cats)"
      ],
      "metadata": {
        "id": "K10Kgdf5vkjZ",
        "colab": {
          "base_uri": "https://localhost:8080/"
        },
        "outputId": "b0ec7554-496f-4ed7-d712-662f1dbf8f56"
      },
      "execution_count": null,
      "outputs": [
        {
          "output_type": "stream",
          "name": "stdout",
          "text": [
            "'data.frame':\t90189 obs. of  5 variables:\n",
            " $ userid        : int  116 337 377 483 488 540 1066 1444 1574 1587 ...\n",
            " $ version       : chr  \"gate_30\" \"gate_30\" \"gate_40\" \"gate_40\" ...\n",
            " $ sum_gamerounds: int  3 38 165 1 179 187 0 2 108 153 ...\n",
            " $ retention_1   : chr  \"False\" \"True\" \"True\" \"False\" ...\n",
            " $ retention_7   : chr  \"False\" \"False\" \"False\" \"False\" ...\n"
          ]
        },
        {
          "output_type": "display_data",
          "data": {
            "text/html": [
              "<table class=\"dataframe\">\n",
              "<caption>A data.frame: 6 × 5</caption>\n",
              "<thead>\n",
              "\t<tr><th></th><th scope=col>userid</th><th scope=col>version</th><th scope=col>sum_gamerounds</th><th scope=col>retention_1</th><th scope=col>retention_7</th></tr>\n",
              "\t<tr><th></th><th scope=col>&lt;int&gt;</th><th scope=col>&lt;chr&gt;</th><th scope=col>&lt;int&gt;</th><th scope=col>&lt;chr&gt;</th><th scope=col>&lt;chr&gt;</th></tr>\n",
              "</thead>\n",
              "<tbody>\n",
              "\t<tr><th scope=row>1</th><td>116</td><td>gate_30</td><td>  3</td><td>False</td><td>False</td></tr>\n",
              "\t<tr><th scope=row>2</th><td>337</td><td>gate_30</td><td> 38</td><td>True </td><td>False</td></tr>\n",
              "\t<tr><th scope=row>3</th><td>377</td><td>gate_40</td><td>165</td><td>True </td><td>False</td></tr>\n",
              "\t<tr><th scope=row>4</th><td>483</td><td>gate_40</td><td>  1</td><td>False</td><td>False</td></tr>\n",
              "\t<tr><th scope=row>5</th><td>488</td><td>gate_40</td><td>179</td><td>True </td><td>True </td></tr>\n",
              "\t<tr><th scope=row>6</th><td>540</td><td>gate_40</td><td>187</td><td>True </td><td>True </td></tr>\n",
              "</tbody>\n",
              "</table>\n"
            ],
            "text/markdown": "\nA data.frame: 6 × 5\n\n| <!--/--> | userid &lt;int&gt; | version &lt;chr&gt; | sum_gamerounds &lt;int&gt; | retention_1 &lt;chr&gt; | retention_7 &lt;chr&gt; |\n|---|---|---|---|---|---|\n| 1 | 116 | gate_30 |   3 | False | False |\n| 2 | 337 | gate_30 |  38 | True  | False |\n| 3 | 377 | gate_40 | 165 | True  | False |\n| 4 | 483 | gate_40 |   1 | False | False |\n| 5 | 488 | gate_40 | 179 | True  | True  |\n| 6 | 540 | gate_40 | 187 | True  | True  |\n\n",
            "text/latex": "A data.frame: 6 × 5\n\\begin{tabular}{r|lllll}\n  & userid & version & sum\\_gamerounds & retention\\_1 & retention\\_7\\\\\n  & <int> & <chr> & <int> & <chr> & <chr>\\\\\n\\hline\n\t1 & 116 & gate\\_30 &   3 & False & False\\\\\n\t2 & 337 & gate\\_30 &  38 & True  & False\\\\\n\t3 & 377 & gate\\_40 & 165 & True  & False\\\\\n\t4 & 483 & gate\\_40 &   1 & False & False\\\\\n\t5 & 488 & gate\\_40 & 179 & True  & True \\\\\n\t6 & 540 & gate\\_40 & 187 & True  & True \\\\\n\\end{tabular}\n",
            "text/plain": [
              "  userid version sum_gamerounds retention_1 retention_7\n",
              "1 116    gate_30   3            False       False      \n",
              "2 337    gate_30  38            True        False      \n",
              "3 377    gate_40 165            True        False      \n",
              "4 483    gate_40   1            False       False      \n",
              "5 488    gate_40 179            True        True       \n",
              "6 540    gate_40 187            True        True       "
            ]
          },
          "metadata": {}
        }
      ]
    },
    {
      "cell_type": "markdown",
      "source": [
        "# 1. **EDA** \n",
        "\n",
        "Let's perform an EDA on our data in order to learn more about its variables."
      ],
      "metadata": {
        "id": "yQvnHExxJ1Fz"
      }
    },
    {
      "cell_type": "code",
      "source": [
        "install.packages(\"naniar\")\n",
        "install.packages(\"infer\")\n",
        "library(naniar)\n",
        "library(ggplot2)\n",
        "library(infer)\n",
        "library(dplyr)"
      ],
      "metadata": {
        "colab": {
          "base_uri": "https://localhost:8080/"
        },
        "id": "NcFTy5kIn_4F",
        "outputId": "33898621-942b-4418-9cae-413b05c894c4"
      },
      "execution_count": null,
      "outputs": [
        {
          "output_type": "stream",
          "name": "stderr",
          "text": [
            "Installing package into ‘/usr/local/lib/R/site-library’\n",
            "(as ‘lib’ is unspecified)\n",
            "\n",
            "Installing package into ‘/usr/local/lib/R/site-library’\n",
            "(as ‘lib’ is unspecified)\n",
            "\n"
          ]
        }
      ]
    },
    {
      "cell_type": "code",
      "source": [
        "# First, let's check if the data contains any missing values\n",
        "n_miss(cookie_cats)\n",
        "\n",
        "# Let's check if there are any duplicates using duplicated()\n",
        "sum(duplicated(cookie_cats))"
      ],
      "metadata": {
        "id": "A3uGfCZY_9Pt",
        "colab": {
          "base_uri": "https://localhost:8080/",
          "height": 52
        },
        "outputId": "51d87197-87e4-4929-eb19-75901f99f703"
      },
      "execution_count": null,
      "outputs": [
        {
          "output_type": "display_data",
          "data": {
            "text/html": [
              "0"
            ],
            "text/markdown": "0",
            "text/latex": "0",
            "text/plain": [
              "[1] 0"
            ]
          },
          "metadata": {}
        },
        {
          "output_type": "display_data",
          "data": {
            "text/html": [
              "0"
            ],
            "text/markdown": "0",
            "text/latex": "0",
            "text/plain": [
              "[1] 0"
            ]
          },
          "metadata": {}
        }
      ]
    },
    {
      "cell_type": "code",
      "source": [
        "# Next, let's find the number of players who came back to play after 1 day or 7 days of installing using sum()\n",
        "# Note: retention_1 and retention_7 are character variables not bool, find the appropriate function to convert them\n",
        "cookie_cats$retention_1logical <- as.logical(cookie_cats$retention_1)\n",
        "cookie_cats$retention_7logical <- as.logical(cookie_cats$retention_7)\n",
        "\n",
        "print(\"Number of players after 1 day\")\n",
        "sum(cookie_cats$retention_1logical)\n",
        "print(\"Number of players after 7 day\")\n",
        "sum(cookie_cats$retention_7logical)"
      ],
      "metadata": {
        "id": "xSN24axo23aX",
        "colab": {
          "base_uri": "https://localhost:8080/",
          "height": 86
        },
        "outputId": "b3762eb3-0b7a-4a36-873b-c8c9ffb9cba5"
      },
      "execution_count": null,
      "outputs": [
        {
          "output_type": "stream",
          "name": "stdout",
          "text": [
            "[1] \"Number of players after 1 day\"\n"
          ]
        },
        {
          "output_type": "display_data",
          "data": {
            "text/html": [
              "40153"
            ],
            "text/markdown": "40153",
            "text/latex": "40153",
            "text/plain": [
              "[1] 40153"
            ]
          },
          "metadata": {}
        },
        {
          "output_type": "stream",
          "name": "stdout",
          "text": [
            "[1] \"Number of players after 7 day\"\n"
          ]
        },
        {
          "output_type": "display_data",
          "data": {
            "text/html": [
              "16781"
            ],
            "text/markdown": "16781",
            "text/latex": "16781",
            "text/plain": [
              "[1] 16781"
            ]
          },
          "metadata": {}
        }
      ]
    },
    {
      "cell_type": "code",
      "source": [
        "# Let's now display retention_1 and retention_7 separately using a barplot\n",
        "p1<-ggplot(cookie_cats, aes(retention_7logical)) + geom_bar()\n",
        "p1\n",
        "p7<-ggplot(cookie_cats, aes(retention_1logical)) + geom_bar()\n",
        "p7"
      ],
      "metadata": {
        "id": "m-PWIVu1PWue",
        "colab": {
          "base_uri": "https://localhost:8080/",
          "height": 857
        },
        "outputId": "0f5ef009-3d6b-495f-a9a7-edf3a0ad4b34"
      },
      "execution_count": null,
      "outputs": [
        {
          "output_type": "display_data",
          "data": {
            "text/plain": [
              "plot without title"
            ],
            "image/png": "[encoded data removed]"
          },
          "metadata": {
            "image/png": {
              "width": 420,
              "height": 420
            }
          }
        },
        {
          "output_type": "display_data",
          "data": {
            "text/plain": [
              "plot without title"
            ],
            "image/png": "[encoded data removed]"
          },
          "metadata": {
            "image/png": {
              "width": 420,
              "height": 420
            }
          }
        }
      ]
    },
    {
      "cell_type": "code",
      "source": [
        "# Finally, let's use summary() to find summaries regarding each variable\n",
        "x <- summary(cookie_cats)\n",
        "x"
      ],
      "metadata": {
        "id": "7ApnJq6pKiaz",
        "colab": {
          "base_uri": "https://localhost:8080/",
          "height": 260
        },
        "outputId": "0d89660a-fa36-427c-b078-6e183174525f"
      },
      "execution_count": null,
      "outputs": [
        {
          "output_type": "display_data",
          "data": {
            "text/plain": [
              "     userid          version          sum_gamerounds     retention_1       \n",
              " Min.   :    116   Length:90189       Min.   :    0.00   Length:90189      \n",
              " 1st Qu.:2512230   Class :character   1st Qu.:    5.00   Class :character  \n",
              " Median :4995815   Mode  :character   Median :   16.00   Mode  :character  \n",
              " Mean   :4998412                      Mean   :   51.87                     \n",
              " 3rd Qu.:7496452                      3rd Qu.:   51.00                     \n",
              " Max.   :9999861                      Max.   :49854.00                     \n",
              " retention_7        retention_1logical retention_7logical\n",
              " Length:90189       Mode :logical      Mode :logical     \n",
              " Class :character   FALSE:50036        FALSE:73408       \n",
              " Mode  :character   TRUE :40153        TRUE :16781       \n",
              "                                                         \n",
              "                                                         \n",
              "                                                         "
            ]
          },
          "metadata": {}
        }
      ]
    },
    {
      "cell_type": "markdown",
      "source": [
        "# 2.**The AB-test data**\n",
        "\n",
        "The data we have is from 90,189 players that installed the game while the AB-test was running. The variables are:\n",
        "\n",
        "**userid** - a unique number that identifies each player.\n",
        "\n",
        "**version** - whether the player was put in the control group (gate_30 - a gate at level 30) or the group with the moved gate (gate_40 - a gate at level 40).\n",
        "\n",
        "**sum_gamerounds** - the number of game rounds played by the player during the first 14 days after install.\n",
        "\n",
        "**retention_1** - did the player come back and play **1 day** after installing?\n",
        "\n",
        "**retention_7** - did the player come back and play **7 days** after installing?\n",
        "\n"
      ],
      "metadata": {
        "id": "Qo7QCzlhvtcc"
      }
    },
    {
      "cell_type": "markdown",
      "source": [
        "# Problem Statement:\n",
        "\n",
        "\\begin{equation} H_{0} : p_{gate30} - p_{gate40} >= 0 \\end{equation}\n",
        "\n",
        "\\begin{equation} H_{1} : p_{gate30} - p_{gate40} < 0 \\end{equation}"
      ],
      "metadata": {
        "id": "34UpqKXl7ulL"
      }
    },
    {
      "cell_type": "markdown",
      "source": [
        "When a player installed the game, he or she was randomly assigned to either **gate_30** or **gate_40**. As a sanity check, let's see if there are roughly the same number of players in each AB group."
      ],
      "metadata": {
        "id": "e7--We9t7-On"
      }
    },
    {
      "cell_type": "code",
      "source": [
        "# Counting the number of players in each A/B group.(gate30 / gate40)\n",
        "table(cookie_cats$version)"
      ],
      "metadata": {
        "id": "JQYIiUwhCwYv",
        "colab": {
          "base_uri": "https://localhost:8080/",
          "height": 69
        },
        "outputId": "ac1a954b-ee98-421a-b888-de2c512d2a4e"
      },
      "execution_count": null,
      "outputs": [
        {
          "output_type": "display_data",
          "data": {
            "text/plain": [
              "\n",
              "gate_30 gate_40 \n",
              "  44700   45489 "
            ]
          },
          "metadata": {}
        }
      ]
    },
    {
      "cell_type": "markdown",
      "source": [
        "## 2. The distribution of game rounds\n",
        "<p><img src=\"https://assets.datacamp.com/production/project_184/img/mr_waffles_smiling.png\" style=\"width:50px; float:right\"> </p>\n",
        "<p>It looks like there is roughly the same number of players in each group, nice!</p>\n",
        "<p>The focus of this analysis will be on how the gate placement affects player retention, but just for fun: Let's plot the distribution of the number of game rounds players played during their first week playing the game.</p>"
      ],
      "metadata": {
        "id": "n4XwPNe8DbCq"
      }
    },
    {
      "cell_type": "code",
      "source": [
        "# The distribution of game rounds\n",
        "# Plotting the distribution of players that played 0 to 100 game rounds\n",
        "\n",
        "m<- ggplot(cookie_cats,aes(x=sum_gamerounds))+geom_histogram()+xlim(0,100)\n",
        "m"
      ],
      "metadata": {
        "id": "uwNINT2qEEtK",
        "colab": {
          "base_uri": "https://localhost:8080/",
          "height": 541
        },
        "outputId": "a9d83387-e1e9-4eec-c0f2-db83daddc302"
      },
      "execution_count": null,
      "outputs": [
        {
          "output_type": "stream",
          "name": "stderr",
          "text": [
            "`stat_bin()` using `bins = 30`. Pick better value with `binwidth`.\n",
            "\n",
            "Warning message:\n",
            "“Removed 12385 rows containing non-finite values (stat_bin).”\n",
            "Warning message:\n",
            "“Removed 2 rows containing missing values (geom_bar).”\n"
          ]
        },
        {
          "output_type": "display_data",
          "data": {
            "text/plain": [
              "plot without title"
            ],
            "image/png": "[encoded data removed]"
          },
          "metadata": {
            "image/png": {
              "width": 420,
              "height": 420
            }
          }
        }
      ]
    },
    {
      "cell_type": "markdown",
      "source": [
        "**3. Overall 1-day retention**\n",
        "\n",
        "In the plot above we can see that some players install the game but then never play it (0 game rounds), some players just play a couple of game rounds in their first week, and some get really hooked!\n",
        "\n",
        "\n",
        "\n",
        "What we want is for players to like the game and to get hooked. A common metric in the video gaming industry for how fun and engaging a game is 1-day retention: The percentage of players that comes back and plays the game one day after they have installed it. The higher 1-day retention is, the easier it is to retain players and build a large player base.\n",
        "\n",
        "\n",
        "\n",
        "As a first step, **let's look at what 1-day and 7-day retention is overall.**"
      ],
      "metadata": {
        "id": "YlwoBRwPZmKI"
      }
    },
    {
      "cell_type": "code",
      "source": [
        "# The % of users that came back the day(retention_1) after they installed\n",
        "x <- sum(cookie_cats$retention_1logical)\n",
        "z <- (x/90189)*100\n",
        "z\n",
        "# The % of users that came back a week(retention_7) after they installed\n",
        "y <- sum(cookie_cats$retention_7logical)\n",
        "q <- (y/90189)*100\n",
        "q"
      ],
      "metadata": {
        "id": "aTcMu5gEFRhj",
        "colab": {
          "base_uri": "https://localhost:8080/",
          "height": 52
        },
        "outputId": "ba5463fd-b82c-40bc-d006-821ad1354355"
      },
      "execution_count": null,
      "outputs": [
        {
          "output_type": "display_data",
          "data": {
            "text/html": [
              "44.5209504485026"
            ],
            "text/markdown": "44.5209504485026",
            "text/latex": "44.5209504485026",
            "text/plain": [
              "[1] 44.52095"
            ]
          },
          "metadata": {}
        },
        {
          "output_type": "display_data",
          "data": {
            "text/html": [
              "18.6064819434743"
            ],
            "text/markdown": "18.6064819434743",
            "text/latex": "18.6064819434743",
            "text/plain": [
              "[1] 18.60648"
            ]
          },
          "metadata": {}
        }
      ]
    },
    {
      "cell_type": "markdown",
      "source": [
        "So, a little less than half of the players come back one day after installing the game. 18 percent of the players come back 7 day after installing the game.\n",
        "\n",
        "Now that we have a benchmark, let's look at how retention rates differs between the two A/B groups(gate30 /gate40).\n",
        "\n",
        "\n",
        "\n"
      ],
      "metadata": {
        "id": "Ckdm3jD1Hz6J"
      }
    },
    {
      "cell_type": "code",
      "source": [
        "#Calculating the percentage of 1-day retention for each A/B group\n",
        "print(aggregate(cookie_cats$retention_1logical, list(cookie_cats$version), FUN=mean))\n",
        "\n",
        "#Calculating the percentage of 7-days retention for each A/B group\n",
        "print(aggregate(cookie_cats$retention_7logical, list(cookie_cats$version), FUN=mean))"
      ],
      "metadata": {
        "id": "958cT_9D4WfM",
        "colab": {
          "base_uri": "https://localhost:8080/"
        },
        "outputId": "a83a25af-ffe7-45ad-987b-05f484b12475"
      },
      "execution_count": null,
      "outputs": [
        {
          "output_type": "stream",
          "name": "stdout",
          "text": [
            "  Group.1         x\n",
            "1 gate_30 0.4481879\n",
            "2 gate_40 0.4422827\n",
            "  Group.1         x\n",
            "1 gate_30 0.1902013\n",
            "2 gate_40 0.1820000\n"
          ]
        }
      ]
    },
    {
      "cell_type": "markdown",
      "source": [
        "There was a slight decrease in 1-day retention when the gate was moved to level 40 (44.2%) compared to the control group when it was at level 30 (44.8%).\n",
        "\n",
        "Again,a decrease in 7-day retention when the gate was moved to level 40 (18.2%) compared to the control group when it was at level 30 (19.8%).\n",
        "\n",
        "It's a small change, but even small changes in retention can have a large impact. But while we are certain of the difference in the data, how certain should we be that a gate at level 40 will be worse in the future?\n",
        "\n",
        "There are a couple of ways we can get at the certainty of these retention numbers. Here we will use **bootstrapping**."
      ],
      "metadata": {
        "id": "inX893Ak4ke-"
      }
    },
    {
      "cell_type": "markdown",
      "source": [
        "# 4. A/B Testing: Bootstrapping \n",
        "**Definiton of Method**\n",
        "\n",
        "\n",
        "\n",
        "We'll use **bootstrapping** for A/B testing. The basic idea of bootstrapping is that inference about a population from sample data (sample → population) can be modelled by resampling the sample data and performing inference about a sample from resampled data (resampled → sample). As the population is unknown, the true error in a sample statistic against its population value is unknown. In bootstrap-resamples, the 'population' is in fact the sample, and this is known; hence the quality of inference of the 'true' sample from resampled data (resampled → sample) is measurable. \n",
        "\n",
        "**Testing Steps:**\n",
        "\n",
        "1-Creating 500 samples of dataset (bootstraping)\n",
        "\n",
        "2-Calculating 1-day retentions for A/B groups\n",
        "\n",
        "3-Plotting the bootstrap distributions\n",
        "\n",
        "4-Calculating the observed differnce and the p_value \n",
        "\n",
        "5-making decisions to reject or fail to reject the null hypthesis \n",
        "\n",
        "6-repeat the previous steps on 7-day retention for A/B groups \n",
        "\n",
        "7-Evaluating results and making recommendation"
      ],
      "metadata": {
        "id": "VZRATskNJ7Pz"
      }
    },
    {
      "cell_type": "code",
      "source": [
        "# Creating an list with bootstrapped means(NULL distribution) for group ( retention_1)\n",
        "#install.packages(\"infer\")\n",
        "z <- cookie_cats %>%\n",
        "  group_by(version) %>%\n",
        "  summarize(prop_1=mean(retention_1==\"True\")) %>%\n",
        "  summarize(diff(prop_1)) %>%\n",
        "  pull()\n",
        "\n",
        "cookies_cat_boot1 <- cookie_cats %>%\n",
        " specify(retention_1 ~ version ,success = \"True\") %>%\n",
        " hypothesize(null = \"independence\") %>%\n",
        " generate(reps = 500, type = \"permute\") %>%\n",
        " calculate(stat=\"diff in props\", order = c(\"gate_30\",\"gate_40\"))"
      ],
      "metadata": {
        "id": "5aazvtEzIy6g"
      },
      "execution_count": null,
      "outputs": []
    },
    {
      "cell_type": "code",
      "source": [
        "#calculate the observed statistics (actual statistics)\n",
        "cookies_cat_boot1 %>%\n",
        "  summarize(mb=mean(z >=stat))"
      ],
      "metadata": {
        "id": "FWux0nHmK8sv",
        "colab": {
          "base_uri": "https://localhost:8080/",
          "height": 147
        },
        "outputId": "006ef516-3319-4f5b-a2b5-eb12ced04135"
      },
      "execution_count": null,
      "outputs": [
        {
          "output_type": "display_data",
          "data": {
            "text/html": [
              "<table class=\"dataframe\">\n",
              "<caption>A tibble: 1 × 1</caption>\n",
              "<thead>\n",
              "\t<tr><th scope=col>mb</th></tr>\n",
              "\t<tr><th scope=col>&lt;dbl&gt;</th></tr>\n",
              "</thead>\n",
              "<tbody>\n",
              "\t<tr><td>0.028</td></tr>\n",
              "</tbody>\n",
              "</table>\n"
            ],
            "text/markdown": "\nA tibble: 1 × 1\n\n| mb &lt;dbl&gt; |\n|---|\n| 0.028 |\n\n",
            "text/latex": "A tibble: 1 × 1\n\\begin{tabular}{l}\n mb\\\\\n <dbl>\\\\\n\\hline\n\t 0.028\\\\\n\\end{tabular}\n",
            "text/plain": [
              "  mb   \n",
              "1 0.028"
            ]
          },
          "metadata": {}
        }
      ]
    },
    {
      "cell_type": "code",
      "source": [
        "#plot the null distrbiution (the list with bootstrapped props)\n",
        "#then plot a line to represent the observed differnce\n",
        "#Note: if you used the function shape_p_value(),set the value for the argument direction to \"right\"\n",
        "cookies_cat_boot1 %>% visualize() +\n",
        "  shade_p_value(obs_stat =z,direction=\"right\")"
      ],
      "metadata": {
        "id": "_Y2TXkox46CU",
        "colab": {
          "base_uri": "https://localhost:8080/",
          "height": 437
        },
        "outputId": "3a9ca9db-7f14-4583-b8b5-225ba7f78536"
      },
      "execution_count": null,
      "outputs": [
        {
          "output_type": "display_data",
          "data": {
            "text/plain": [
              "plot without title"
            ],
            "image/png": "[encoded data removed]"
          },
          "metadata": {
            "image/png": {
              "width": 420,
              "height": 420
            }
          }
        }
      ]
    },
    {
      "cell_type": "code",
      "source": [
        "#calculate the p_value \n",
        "#Note: if you used the function get_p_value(),set the value for the argument direction to \"right\"\n",
        "cookies_cat_boot1 %>% get_p_value(obs_stat = z,direction = \"right\")"
      ],
      "metadata": {
        "id": "lawTYv6w5P3F",
        "colab": {
          "base_uri": "https://localhost:8080/",
          "height": 147
        },
        "outputId": "fac4e3a2-9e5e-4460-ba3a-112f7d2ea33c"
      },
      "execution_count": null,
      "outputs": [
        {
          "output_type": "display_data",
          "data": {
            "text/html": [
              "<table class=\"dataframe\">\n",
              "<caption>A tibble: 1 × 1</caption>\n",
              "<thead>\n",
              "\t<tr><th scope=col>p_value</th></tr>\n",
              "\t<tr><th scope=col>&lt;dbl&gt;</th></tr>\n",
              "</thead>\n",
              "<tbody>\n",
              "\t<tr><td>0.972</td></tr>\n",
              "</tbody>\n",
              "</table>\n"
            ],
            "text/markdown": "\nA tibble: 1 × 1\n\n| p_value &lt;dbl&gt; |\n|---|\n| 0.972 |\n\n",
            "text/latex": "A tibble: 1 × 1\n\\begin{tabular}{l}\n p\\_value\\\\\n <dbl>\\\\\n\\hline\n\t 0.972\\\\\n\\end{tabular}\n",
            "text/plain": [
              "  p_value\n",
              "1 0.972  "
            ]
          },
          "metadata": {}
        }
      ]
    },
    {
      "cell_type": "markdown",
      "source": [
        "The p_value for retention_1 is greater than 0.005 and that means we shouldn't move away from the null hypothesis (we fail to reject the null hypothesis ) ,that means the gate **should be kept at level 30.**\n",
        "\n"
      ],
      "metadata": {
        "id": "pugHNzQL5YQv"
      }
    },
    {
      "cell_type": "markdown",
      "source": [
        "The bootstrap analysis tells us that there is a high probability that 1-day retention is better when the gate is at level 30. However, since players have only been playing the game for one day, it is likely that most players haven't reached level 30 yet. That is, many players won't have been affected by the gate, even if it's as early as level 30.\n",
        "\n",
        "But after having played for a week, more players should have reached level 40, and therefore it makes sense to also look at 7-day retention. That is: What percentage of the people that installed the game also showed up a week later to play the game again.\n",
        "\n",
        "**Let's start by calculating 7-day retention for the two AB-groups.**"
      ],
      "metadata": {
        "id": "Lwxikh3w5ph3"
      }
    },
    {
      "cell_type": "code",
      "source": [
        "# Creating an list with bootstrapped props(NULL distribution) for group(retention_7)\n",
        "z7 <- cookie_cats %>%\n",
        "  group_by(version) %>%\n",
        "  summarize(prop_1=mean(retention_7==\"True\")) %>%\n",
        "  summarize(diff(prop_1)) %>%\n",
        "  pull()\n",
        "\n",
        "cookies_cat_boot7 <- cookie_cats %>%\n",
        " specify(retention_7 ~ version ,success = \"True\") %>%\n",
        " hypothesize(null = \"independence\") %>%\n",
        " generate(reps = 500, type = \"permute\") %>%\n",
        " calculate(stat=\"diff in props\", order = c(\"gate_30\",\"gate_40\"))"
      ],
      "metadata": {
        "id": "GU72MRrH5_tf"
      },
      "execution_count": null,
      "outputs": []
    },
    {
      "cell_type": "code",
      "source": [
        "#calculate the observed statistics (actual statistics)\n",
        "cookies_cat_boot7 %>%\n",
        "  summarize(cq=mean(z7 >=stat))"
      ],
      "metadata": {
        "id": "fR-lraxV6CQ9",
        "colab": {
          "base_uri": "https://localhost:8080/",
          "height": 147
        },
        "outputId": "7241664b-27ec-4eee-9448-51509090e410"
      },
      "execution_count": null,
      "outputs": [
        {
          "output_type": "display_data",
          "data": {
            "text/html": [
              "<table class=\"dataframe\">\n",
              "<caption>A tibble: 1 × 1</caption>\n",
              "<thead>\n",
              "\t<tr><th scope=col>cq</th></tr>\n",
              "\t<tr><th scope=col>&lt;dbl&gt;</th></tr>\n",
              "</thead>\n",
              "<tbody>\n",
              "\t<tr><td>0.002</td></tr>\n",
              "</tbody>\n",
              "</table>\n"
            ],
            "text/markdown": "\nA tibble: 1 × 1\n\n| cq &lt;dbl&gt; |\n|---|\n| 0.002 |\n\n",
            "text/latex": "A tibble: 1 × 1\n\\begin{tabular}{l}\n cq\\\\\n <dbl>\\\\\n\\hline\n\t 0.002\\\\\n\\end{tabular}\n",
            "text/plain": [
              "  cq   \n",
              "1 0.002"
            ]
          },
          "metadata": {}
        }
      ]
    },
    {
      "cell_type": "code",
      "source": [
        "#plot the null distrbiution (the list with bootstrapped props)\n",
        "#then plot a line to represent the observed differnce \n",
        "#Note: if you used the function shape_p_value(),set the value for the argument direction to \"right\"\n",
        "cookies_cat_boot7 %>% visualize() +\n",
        "  shade_p_value(obs_stat = z7,direction=\"right\")"
      ],
      "metadata": {
        "id": "2PI_jPKx6CZx",
        "colab": {
          "base_uri": "https://localhost:8080/",
          "height": 437
        },
        "outputId": "ec31119d-6059-445c-a95f-bbec4ae349b8"
      },
      "execution_count": null,
      "outputs": [
        {
          "output_type": "display_data",
          "data": {
            "text/plain": [
              "plot without title"
            ],
            "image/png": "[encoded data removed]"
          },
          "metadata": {
            "image/png": {
              "width": 420,
              "height": 420
            }
          }
        }
      ]
    },
    {
      "cell_type": "code",
      "source": [
        "#calculating the p_value for retention_7\n",
        "#Note: if you used the function get_p_value(),set the value for the argument direction to \"right\"\n",
        "cookies_cat_boot7 %>% get_p_value(obs_stat = z7,direction = \"right\")"
      ],
      "metadata": {
        "id": "9BecLxa_6DN7",
        "colab": {
          "base_uri": "https://localhost:8080/",
          "height": 147
        },
        "outputId": "cde6d1b2-4452-4993-96f6-7c93c51423e3"
      },
      "execution_count": null,
      "outputs": [
        {
          "output_type": "display_data",
          "data": {
            "text/html": [
              "<table class=\"dataframe\">\n",
              "<caption>A tibble: 1 × 1</caption>\n",
              "<thead>\n",
              "\t<tr><th scope=col>p_value</th></tr>\n",
              "\t<tr><th scope=col>&lt;dbl&gt;</th></tr>\n",
              "</thead>\n",
              "<tbody>\n",
              "\t<tr><td>0.998</td></tr>\n",
              "</tbody>\n",
              "</table>\n"
            ],
            "text/markdown": "\nA tibble: 1 × 1\n\n| p_value &lt;dbl&gt; |\n|---|\n| 0.998 |\n\n",
            "text/latex": "A tibble: 1 × 1\n\\begin{tabular}{l}\n p\\_value\\\\\n <dbl>\\\\\n\\hline\n\t 0.998\\\\\n\\end{tabular}\n",
            "text/plain": [
              "  p_value\n",
              "1 0.998  "
            ]
          },
          "metadata": {}
        }
      ]
    },
    {
      "cell_type": "markdown",
      "source": [
        "\n",
        "The bootstrap result tells us that there is strong evidence 99.8% probability that 7-day retention is higher when the gate is at level 30 than when it is at level 40.\n",
        "\n",
        "The probability that 1-day retention is greater when the gate is at level 30: 97.0%       \n",
        "The probability that 7-days retention is greater when the gate is at level 30: 100.0% "
      ],
      "metadata": {
        "id": "nI1odlWRLivX"
      }
    },
    {
      "cell_type": "markdown",
      "source": [
        "# 5. The conclusion\n",
        "\n",
        "If we want to keep retention high — both 1-day and 7-day retention — we should not move the gate from level 30 to level 40. There are, of course, other metrics we could look at, like the number of game rounds played or how much in-game purchases are made by the two AB-groups. But retention is one of the most important metrics.\n"
      ],
      "metadata": {
        "id": "p4DycvfuLkH7"
      }
    }
  ]
}